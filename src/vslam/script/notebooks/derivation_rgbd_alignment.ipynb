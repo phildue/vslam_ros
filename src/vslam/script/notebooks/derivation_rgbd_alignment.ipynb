{
 "cells": [
  {
   "cell_type": "code",
   "execution_count": 20,
   "metadata": {},
   "outputs": [
    {
     "data": {
      "text/plain": [
       "[z0*(-cx0 + x0)/fx0]\n",
       "[z0*(-cy0 + x1)/fy0]\n",
       "[z0]"
      ]
     },
     "metadata": {},
     "output_type": "display_data"
    }
   ],
   "source": [
    "from sympy import *\n",
    "import symforce.symbolic as sf\n",
    "from symforce.cam.linear_camera_cal import LinearCameraCal\n",
    "init_printing(use_unicode=True)\n",
    "pixel = sf.V2.symbolic(\"x\")\n",
    "depth = sf.V1.symbolic(\"z\")\n",
    "image = sf.Function(\"I\")\n",
    "template = sf.Function(\"T\")\n",
    "\n",
    "pose = sf.Pose3(\n",
    "    t=sf.V3.symbolic(\"t\"),\n",
    "    R=sf.Rot3.symbolic(\"R\")\n",
    ")\n",
    "\n",
    "camera = LinearCameraCal(\n",
    "    focal_length=[sf.V1.symbolic(\"fx\"), sf.V1.symbolic(\"fy\")],\n",
    "    principal_point=[sf.V1.symbolic(\"cx\"), sf.V1.symbolic(\"cy\")]\n",
    ")\n",
    "\n",
    "p3d0 = (camera.camera_ray_from_pixel(pixel)[0]*depth)\n",
    "p3d0\n",
    "\n"
   ]
  },
  {
   "cell_type": "code",
   "execution_count": 21,
   "metadata": {},
   "outputs": [
    {
     "data": {
      "text/plain": [
       "[(-2*R_w*R_y + 2*R_x*R_z)*z0 + (2*R_w*R_z + 2*R_x*R_y)*z0*(-cy0 + x1)/fy0 + (1 - 2*R_y**2 - 2*R_z**2)*z0*(-cx0 + x0)/fx0 - ((2*R_w*R_z + 2*R_x*R_y)*t1 + (-2*R_w*R_y + 2*R_x*R_z)*t2 + (1 - 2*R_y**2 - 2*R_z**2)*t0)]\n",
       "[(2*R_x*R_w + 2*R_z*R_y)*z0 + (-2*R_w*R_z + 2*R_x*R_y)*z0*(-cx0 + x0)/fx0 + (1 - 2*R_x**2 - 2*R_z**2)*z0*(-cy0 + x1)/fy0 - ((2*R_x*R_w + 2*R_z*R_y)*t2 + (-2*R_w*R_z + 2*R_x*R_y)*t0 + (1 - 2*R_x**2 - 2*R_z**2)*t1)]\n",
       "[(1 - 2*R_x**2 - 2*R_y**2)*z0 + (-2*R_x*R_w + 2*R_z*R_y)*z0*(-cy0 + x1)/fy0 + (2*R_w*R_y + 2*R_x*R_z)*z0*(-cx0 + x0)/fx0 - ((-2*R_x*R_w + 2*R_z*R_y)*t1 + (2*R_w*R_y + 2*R_x*R_z)*t0 + (1 - 2*R_x**2 - 2*R_y**2)*t2)]"
      ]
     },
     "metadata": {},
     "output_type": "display_data"
    }
   ],
   "source": [
    "\n",
    "\n",
    "p3d1 = pose.inverse() * p3d0\n",
    "p3d1\n"
   ]
  },
  {
   "cell_type": "code",
   "execution_count": null,
   "metadata": {},
   "outputs": [],
   "source": [
    "\n",
    "warp = camera.pixel_from_camera_point(p3d1)\n",
    "warp\n",
    "#error = (template(pixel) - image(warp(pixel)))**2\n",
    "\n"
   ]
  },
  {
   "attachments": {},
   "cell_type": "markdown",
   "metadata": {},
   "source": [
    "We linearize T around 0:\n",
    "\n"
   ]
  },
  {
   "cell_type": "code",
   "execution_count": 1,
   "metadata": {},
   "outputs": [
    {
     "data": {
      "text/latex": [
       "$\\displaystyle f{\\left(f{\\left(0 \\right)} \\right)} + \\Delta p \\frac{d}{d f{\\left(0 \\right)}} f{\\left(f{\\left(0 \\right)} \\right)} \\left. \\frac{d}{d \\xi} f{\\left(\\xi \\right)} \\right|_{\\substack{ \\xi=0 }} + O\\left(\\Delta p^{2}\\right)$"
      ],
      "text/plain": [
       "f(f(0)) + \\Delta p*Derivative(f(f(0)), f(0))*Subs(Derivative(f(xi), xi), xi, 0) + O(\\Delta p**2)"
      ]
     },
     "execution_count": 1,
     "metadata": {},
     "output_type": "execute_result"
    }
   ],
   "source": [
    "from sympy import *\n",
    "\n",
    "parameter_update = Symbol('\\Delta p')\n",
    "f = Function('f')\n",
    "w = Function('f')(parameter_update)\n",
    "\n",
    "f(w)\n",
    "\n",
    "series(f(w),parameter_update,x0=0,n=2)"
   ]
  }
 ],
 "metadata": {
  "kernelspec": {
   "display_name": "Python 3",
   "language": "python",
   "name": "python3"
  },
  "language_info": {
   "codemirror_mode": {
    "name": "ipython",
    "version": 3
   },
   "file_extension": ".py",
   "mimetype": "text/x-python",
   "name": "python",
   "nbconvert_exporter": "python",
   "pygments_lexer": "ipython3",
   "version": "3.8.10"
  },
  "orig_nbformat": 4,
  "vscode": {
   "interpreter": {
    "hash": "916dbcbb3f70747c44a77c7bcd40155683ae19c65e1c03b4aa3499c5328201f1"
   }
  }
 },
 "nbformat": 4,
 "nbformat_minor": 2
}
